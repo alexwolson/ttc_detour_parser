{
 "cells": [
  {
   "cell_type": "code",
   "execution_count": 16,
   "outputs": [],
   "source": [
    "import requests"
   ],
   "metadata": {
    "collapsed": false,
    "ExecuteTime": {
     "end_time": "2023-07-18T22:19:08.941031Z",
     "start_time": "2023-07-18T22:19:08.733300Z"
    }
   }
  },
  {
   "cell_type": "code",
   "execution_count": 17,
   "metadata": {
    "collapsed": true,
    "ExecuteTime": {
     "end_time": "2023-07-18T22:19:09.908230Z",
     "start_time": "2023-07-18T22:19:09.757345Z"
    }
   },
   "outputs": [],
   "source": [
    "base_url = \"https://ckan0.cf.opendata.inter.prod-toronto.ca\"\n",
    "url = base_url + \"/api/3/action/package_show\"\n",
    "params = { \"id\": \"ttc-routes-and-schedules\"}\n",
    "package = requests.get(url, params = params).json()\n",
    "for idx, resource in enumerate(package[\"result\"][\"resources\"]):\n",
    "    if not resource[\"datastore_active\"]:\n",
    "        url = base_url + \"/api/3/action/resource_show?id=\" + resource[\"id\"]\n",
    "        resource_metadata = requests.get(url).json()\n",
    "        if resource_metadata['result']['name'] == 'TTC Routes and Schedules Data':\n",
    "            schedule_url = resource_metadata['result']['url']"
   ]
  },
  {
   "cell_type": "code",
   "execution_count": 26,
   "outputs": [],
   "source": [
    "# Download the data using wget and unzip it\n",
    "import wget\n",
    "import zipfile\n",
    "from pathlib import Path\n",
    "download_path = Path('../data/external/ttc_schedule.zip')\n",
    "extract_path = Path('../data/raw/')\n",
    "if download_path.exists():\n",
    "    download_path.unlink()\n",
    "wget.download(schedule_url, str(download_path))\n",
    "with zipfile.ZipFile(str(download_path), 'r') as zip_ref:\n",
    "    zip_ref.extractall(str(extract_path))"
   ],
   "metadata": {
    "collapsed": false,
    "ExecuteTime": {
     "end_time": "2023-07-18T22:24:59.869491Z",
     "start_time": "2023-07-18T22:24:58.366856Z"
    }
   }
  },
  {
   "cell_type": "code",
   "execution_count": null,
   "outputs": [],
   "source": [],
   "metadata": {
    "collapsed": false
   }
  }
 ],
 "metadata": {
  "kernelspec": {
   "display_name": "Python 3",
   "language": "python",
   "name": "python3"
  },
  "language_info": {
   "codemirror_mode": {
    "name": "ipython",
    "version": 2
   },
   "file_extension": ".py",
   "mimetype": "text/x-python",
   "name": "python",
   "nbconvert_exporter": "python",
   "pygments_lexer": "ipython2",
   "version": "2.7.6"
  }
 },
 "nbformat": 4,
 "nbformat_minor": 0
}
